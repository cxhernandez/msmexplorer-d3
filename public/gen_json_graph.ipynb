{
 "metadata": {
  "name": ""
 },
 "nbformat": 3,
 "nbformat_minor": 0,
 "worksheets": [
  {
   "cells": [
    {
     "cell_type": "markdown",
     "metadata": {},
     "source": [
      "This tutorial goes over how to make content for [MSMExplorer-d3](http://msmexplorer-d3.herokuapp.com/) in five painless steps. MSMExplorer-d3 is intended to be used to visualize transition paths from Markov state models. It will go over what packages are required, how to generate a graph using [NetworkX](http://networkx.github.io/), and how to generate a JSON-formatted file of your transition path network."
     ]
    },
    {
     "cell_type": "markdown",
     "metadata": {},
     "source": [
      "[MSMExplorer-d3](http://msmexplorer-d3.herokuapp.com) Tutorial\n",
      "========================\n",
      "\n",
      "1. Get required packages\n",
      "---------------------\n",
      "\n",
      "Import the required python packages:\n",
      "\n",
      "+ [NumPy](http://www.numpy.org)\n",
      "+ [SciPy](http://www.scipy.org)\n",
      "+ [NetworkX](http://networkx.github.io/)\n",
      "+ [MSMBuilder](http://msmbuilder.org/)\n",
      "+ ```sys```\n",
      "+ ```__future__```\n",
      "\n",
      "as shown in the cell below"
     ]
    },
    {
     "cell_type": "code",
     "collapsed": false,
     "input": [
      "from msmbuilder import tpt\n",
      "import numpy as np\n",
      "import scipy.io as sio\n",
      "import networkx as nx\n",
      "from __future__ import print_function\n",
      "from networkx.readwrite import json_graph\n",
      "import sys"
     ],
     "language": "python",
     "metadata": {},
     "outputs": []
    },
    {
     "cell_type": "markdown",
     "metadata": {},
     "source": [
      "2. Define input parameters\n",
      "-------------\n",
      "You will want to define:\n",
      "\n",
      "+ ```sources``` : An integer list of starting MSM states (a.k.a sources)\n",
      "+ ```sinks``` : An integer list of ending MSM states (a.k.a sinks)\n",
      "+ ```n``` : An integer representing the number of top paths you want to generate\n",
      "+ ```tProb``` : A string of the filepath of your MTX formatted transition matrix\n",
      "+ ```out_file``` : A string of the filepath of your desired output JSON file"
     ]
    },
    {
     "cell_type": "code",
     "collapsed": false,
     "input": [
      "sources = [1,2,3]\n",
      "sinks = [4,5,6]\n",
      "n=5\n",
      "tProb ='tProb.mtx'\n",
      "out_file = 'tpt.json'"
     ],
     "language": "python",
     "metadata": {},
     "outputs": []
    },
    {
     "cell_type": "markdown",
     "metadata": {},
     "source": [
      "3. Generate top Transition Pathways with MSMBuilder\n",
      "--------------\n",
      "\n",
      "Use the ```tpt.find_top_paths``` command, as seen below, to generate an object, ```path```, which is a list of a list of paths, a list of bottleneck edges, and a list of bottleneck fluxes."
     ]
    },
    {
     "cell_type": "code",
     "collapsed": false,
     "input": [
      "paths = tpt.find_top_paths(sources,sinks,tprob=sio.mmread(tProb),num_paths=n)"
     ],
     "language": "python",
     "metadata": {},
     "outputs": []
    },
    {
     "cell_type": "markdown",
     "metadata": {},
     "source": [
      "4. Generate NetworkX graph from ```paths``` object\n",
      "--------------\n",
      "\n",
      "Here you will create a directed graph object, ```G```, which you will populate with information from ```paths```."
     ]
    },
    {
     "cell_type": "code",
     "collapsed": false,
     "input": [
      "G=nx.DiGraph()\n",
      "for j,i in enumerate(paths[0][::-1]):\n",
      "    G.add_node(str(i[0]),type=\"source\")\n",
      "    for k in range(1,len(i)):\n",
      "        G.add_node(str(i[k]),type=\"none\")\n",
      "        G.add_edge(str(i[k-1]),str(i[k]),weight=paths[2][::-1][j])\n",
      "    G.add_node(str(i[-1]),type=\"sink\")"
     ],
     "language": "python",
     "metadata": {},
     "outputs": []
    },
    {
     "cell_type": "markdown",
     "metadata": {},
     "source": [
      "5. Write the NetworkX graph to a JSON-formatted file\n",
      "--------------\n",
      "\n",
      "With a simple ```print()``` command and the ```json_graph.dumps``` function, you can easily save your NetworkX graph, ```G```, to a JSON file.\n"
     ]
    },
    {
     "cell_type": "code",
     "collapsed": false,
     "input": [
      "print(str(json_graph.dumps(G)),end=\"\",file=open(out_file,'w'))"
     ],
     "language": "python",
     "metadata": {},
     "outputs": []
    },
    {
     "cell_type": "markdown",
     "metadata": {},
     "source": [
      "Upload the JSON file to MSMExplorer-d3\n",
      "--------------\n",
      "\n",
      "Now you can just go to [msmexplorer-d3.herokuapp.com](http://msmexplorer-d3.herokuapp.com), drag and drop your file in the upload, and you're done!\n",
      "\n",
      "![MSMExplorer](https://raw.github.com/cxhernandez/msmexplorer-d3/master/images/example.png)"
     ]
    },
    {
     "cell_type": "code",
     "collapsed": false,
     "input": [],
     "language": "python",
     "metadata": {},
     "outputs": []
    }
   ],
   "metadata": {}
  }
 ]
}
