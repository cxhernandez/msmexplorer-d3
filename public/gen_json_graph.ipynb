{
 "metadata": {
  "name": ""
 },
 "nbformat": 3,
 "nbformat_minor": 0,
 "worksheets": [
  {
   "cells": [
    {
     "cell_type": "markdown",
     "metadata": {},
     "source": [
      "This tutorial goes over how to create visualizations with [MSMExplorer-d3](http://msmexplorer-d3.herokuapp.com/). MSMExplorer-d3 is intended to be used to easily visualize Markov state models of molecular dynamics. This tutorial will go over how to load Markov state model data, interact with your visualizations, create transition state pathways, and add meaningful representations of molecules to your visualizations.\n"
     ]
    },
    {
     "cell_type": "markdown",
     "metadata": {},
     "source": [
      "[MSMExplorer-d3](http://msmexplorer-d3.herokuapp.com) Tutorial\n",
      "========================\n",
      "\n",
      "\n",
      "![MSMExplorer](https://raw.github.com/cxhernandez/msmexplorer-d3/master/images/example.png)\n",
      "\n",
      "\n",
      "\n",
      "1. Build an MSM\n",
      "---------------------\n",
      "\n",
      "Use [MSMBuilder](http://msmbuilder.org/) to generate an MSM from your molecular dynamics simulations."
     ]
    },
    {
     "cell_type": "markdown",
     "metadata": {},
     "source": [
      "2. Select your MSM Settings\n",
      "-------------\n",
      "In the ``Markov States`` tab, which appears first by default, two different parameters are available to customize: ``Probability cutoff`` and ``Resize nodes``. \n",
      "\n",
      "### A. ``Probability cutoff``\n",
      "This parameter dictates which edges should be trimmed from the graph visualization. This can be useful if you only care about higher probability transitions or just want a more asthetically pleasing graph.\n",
      "\n",
      "### B. ``Resize nodes``\n",
      "This parameter allows for several options to adjust the size of nodes based on different graph properties, such as [``pagerank``](http://en.wikipedia.org/wiki/PageRank), [``first eigenvector``](http://msmbuilder.org/api/generated/msmbuilder.msm_analysis.get_eigenvectors.html?highlight=eigen#msmbuilder.msm_analysis.get_eigenvectors), [``second eigenvector``](http://msmbuilder.org/api/generated/msmbuilder.msm_analysis.get_eigenvectors.html?highlight=eigen#msmbuilder.msm_analysis.get_eigenvectors), and [``closeness centrality``](http://en.wikipedia.org/wiki/Centrality#Closeness_centrality). Each of these properties will highlight states that may have some importance in the Markov state model. ``pagerank`` is the default option."
     ]
    },
    {
     "cell_type": "markdown",
     "metadata": {},
     "source": [
      "3. Upload MSM data\n",
      "-------------\n",
      "Find the transition probability matrix file, which MSMBuilder will create as a matrix market formatted file. This file should be named ``tProb.mtx`` by default in your project folder.\n",
      "\n",
      "The matrix market file can then be dragged and dropped into [MSMExplorer-d3](http://msmexplorer-d3.herokuapp.com/)'s convenient \"UPLOAD\" box. The graph will be generated from this file and your settings automatically. Note that the size of the arrow is related to the directed transition probability between any two states.\n",
      "\n",
      "![MSMExplorer](https://raw.github.com/cxhernandez/msmexplorer-d3/master/images/msm.png)"
     ]
    },
    {
     "cell_type": "markdown",
     "metadata": {},
     "source": [
      "4. Interacting with your visualization\n",
      "--------------\n",
      "\n",
      "A force-directed graph should appear on the right side of the page once you've uploaded a matrix market file. Interacting with the visualization panel is intuitive: you can click and drag nodes to rearrange them; drag the visualization screen to pan in any direction; and scroll within it to zoom in or out. "
     ]
    },
    {
     "cell_type": "markdown",
     "metadata": {},
     "source": [
      "5. Creating transition state pathways\n",
      "--------------\n",
      "\n",
      "Click on ``Transition Paths``. Here, you can create transition state pathways using [Djikastra's algorithm](http://en.wikipedia.org/wiki/Dijkstra's_algorithm) as implemented by MSMBuilder's [``CalculateTPT.py``](http://msmbuilder.org/commands.html?highlight=tpt#calculatetpt-py). Settings include: ``Input source states``, ``Input sink states``, and ``Number of top paths``.\n",
      "\n",
      "###A. ``Input source states``\n",
      "Here you can type in a comma-separated list of source states, or reactants.\n",
      "\n",
      "###B. ``Input sink states``\n",
      "Here you can type in a comma-separated list of sink states, or products.\n",
      "\n",
      "###C. ``Number of top paths``\n",
      "Select the number of top paths desired, as determined by Djikastra's algorithm. Default is 5. Maximum is 10.\n",
      "\n",
      "-----------\n",
      "\n",
      "When you are done configuring your settings, click on \"Generate\". The transition pathways will appear in the visualization panel. Source states will appear in blue, sink states in red, and transition states in gray. Note that the size of the arrow is related to the bottleneck flux along a given path (i.e. the top path with have the largest arrows along it).\n",
      "\n",
      "![MSMExplorer](https://raw.github.com/cxhernandez/msmexplorer-d3/master/images/tpt.png)"
     ]
    },
    {
     "cell_type": "markdown",
     "metadata": {},
     "source": [
      "6. Adding molecule logos\n",
      "--------------\n",
      "\n",
      "Now that your transition state pathways have been generated, you can also add images of the molecular states that each node in the pathway (or transition graph) represents with ease. \n",
      "\n",
      "First, click on the ``Add Logos`` tab and then select a state from the ``State`` selection menu. You can now load a PDB of the state by clicking the ``LOAD PDB`` button on the lower left side of the panel. A molecular stucture should appear in the round window in the center of the panel. Go ahead and interact with it. You can click and drag to rotate the structure; scroll to zoom in or out; click ``control`` and drag to translate; and ``control`` and scroll to adjust the clipping plane.\n",
      "\n",
      "![MSMExplorer](https://raw.github.com/cxhernandez/msmexplorer-d3/master/images/mol.png)\n",
      "\n",
      "When you have your structure just as you want it to appear in the graph, click ``ADD LOGO``. The node will automatically be replaced with the representation you created in the ``Add Logos`` panel. \n",
      "\n",
      "Repeat this step for each state you wish to add a structure, and, within just a few minutes, you can create a publication quality visualization.\n",
      "\n",
      "![MSMExplorer](https://raw.github.com/cxhernandez/msmexplorer-d3/master/images/end-result.png)"
     ]
    },
    {
     "cell_type": "code",
     "collapsed": false,
     "input": [],
     "language": "python",
     "metadata": {},
     "outputs": []
    }
   ],
   "metadata": {}
  }
 ]
}