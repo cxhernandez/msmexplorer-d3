{
 "metadata": {
  "name": ""
 },
 "nbformat": 3,
 "nbformat_minor": 0,
 "worksheets": [
  {
   "cells": [
    {
     "cell_type": "markdown",
     "metadata": {},
     "source": [
      "This tutorial goes over how to create visualizations with [MSMExplorer-d3](http://msmexplorer-d3.herokuapp.com/). MSMExplorer-d3 is intended to be used to easily visualize Markov state models of molecular dynamics. This tutorial will go over how to load Markov state model data, create transition state pathways, and add meaningful representations of molecules to your visualizations.\n"
     ]
    },
    {
     "cell_type": "markdown",
     "metadata": {},
     "source": [
      "[MSMExplorer-d3](http://msmexplorer-d3.herokuapp.com) Tutorial\n",
      "========================\n",
      "\n",
      "\n",
      "![MSMExplorer](https://raw.github.com/cxhernandez/msmexplorer-d3/master/images/example.png)\n",
      "\n",
      "\n",
      "\n",
      "1. Build an MSM\n",
      "---------------------\n",
      "\n",
      "Use [MSMBuilder](http://msmbuilder.org/) to generate an MSM from your molecular dynamics simulations."
     ]
    },
    {
     "cell_type": "markdown",
     "metadata": {},
     "source": [
      "2. Select your MSM Settings\n",
      "-------------\n",
      "In the ``Markov States`` tab, which appears first by default, two different parameters are available to customize: ``Probability cutoff`` and ``Resize nodes``. \n",
      "\n",
      "### A. ``Probability cutoff``\n",
      "This parameter dictates which edges should be trimmed from the graph visualization. This can be useful if you only care about higher probability transitions or just want a more asthetically pleasing graph.\n",
      "\n",
      "### B. ``Resize nodes``\n",
      "This parameter allows for several options to adjust the size of nodes based on different graph properties, such as [``pagerank``](http://en.wikipedia.org/wiki/PageRank), [``first eigenvector``](http://msmbuilder.org/api/generated/msmbuilder.msm_analysis.get_eigenvectors.html?highlight=eigen#msmbuilder.msm_analysis.get_eigenvectors), [``second eigenvector``](http://msmbuilder.org/api/generated/msmbuilder.msm_analysis.get_eigenvectors.html?highlight=eigen#msmbuilder.msm_analysis.get_eigenvectors), and [``closeness centrality``](http://en.wikipedia.org/wiki/Centrality#Closeness_centrality). ``pagerank`` is the default option."
     ]
    },
    {
     "cell_type": "markdown",
     "metadata": {},
     "source": [
      "3. Upload MSM data\n",
      "-------------\n",
      "Find the transition probability matrix file, which MSMBuilder will create as a matrix market formatted file. This file should be named ``tProb.mtx`` by default in your project folder.\n",
      "\n",
      "The matrix market file can then be dragged and dropped into [MSMExplorer-d3](http://msmexplorer-d3.herokuapp.com/)'s convenient \"UPLOAD\" box. The graph will be generated from this file and your settings automatically.\n",
      "\n",
      "![MSMExplorer](https://raw.github.com/cxhernandez/msmexplorer-d3/master/images/msm.png)"
     ]
    },
    {
     "cell_type": "markdown",
     "metadata": {},
     "source": [
      "4. Navigating the visualization panel\n",
      "--------------\n",
      "\n",
      "A force-directed graph should appear on the right side of the page once you've uploaded a matrix market file. You can click and drag nodes to rearrange them; drag the vizualization screen to pan in any direction; and scroll within it to zoom in or out. "
     ]
    },
    {
     "cell_type": "markdown",
     "metadata": {},
     "source": [
      "5. Write the NetworkX graph to a JSON-formatted file\n",
      "--------------\n",
      "\n",
      "With a simple ```print()``` command and the ```json_graph.dumps``` function, you can easily save your NetworkX graph, ```G```, to a JSON file.\n"
     ]
    },
    {
     "cell_type": "code",
     "collapsed": false,
     "input": [
      "print(str(json_graph.dumps(G)),end=\"\",file=open(out_file,'w'))"
     ],
     "language": "python",
     "metadata": {},
     "outputs": []
    },
    {
     "cell_type": "markdown",
     "metadata": {},
     "source": [
      "Upload the JSON file to MSMExplorer-d3\n",
      "--------------\n",
      "\n",
      "Now you can just go to [msmexplorer-d3.herokuapp.com](http://msmexplorer-d3.herokuapp.com), drag and drop your file in the upload, and you're done!"
     ]
    },
    {
     "cell_type": "code",
     "collapsed": false,
     "input": [],
     "language": "python",
     "metadata": {},
     "outputs": []
    }
   ],
   "metadata": {}
  }
 ]
}