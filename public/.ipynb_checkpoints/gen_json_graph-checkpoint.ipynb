{
 "metadata": {
  "name": ""
 },
 "nbformat": 3,
 "nbformat_minor": 0,
 "worksheets": [
  {
   "cells": [
    {
     "cell_type": "code",
     "collapsed": false,
     "input": [
      "\"\"\"\n",
      "How to generate a JSON graph for MSMExplorer-d3\n",
      "====================\n",
      "First\n",
      "---------------------\n",
      "import the required python packages as shown below\n",
      "\"\"\""
     ],
     "language": "python",
     "metadata": {},
     "outputs": []
    },
    {
     "cell_type": "code",
     "collapsed": false,
     "input": [
      "from msmbuilder import tpt\n",
      "import numpy as np\n",
      "import scipy.io as sio\n",
      "import networkx as nx\n",
      "from __future__ import print_function\n",
      "from networkx.readwrite import json_graph\n",
      "import sys"
     ],
     "language": "python",
     "metadata": {},
     "outputs": [],
     "prompt_number": 2
    },
    {
     "cell_type": "code",
     "collapsed": false,
     "input": [
      "G=nx.DiGraph()\n",
      "sources = [1,2,3]\n",
      "sinks = [4,5,6]\n",
      "n=5\n",
      "tProb = sio.mmread('uploads/tProb.mtx')\n",
      "paths = tpt.find_top_paths(sources,sinks,tprob=tProb,num_paths=n)\n",
      "\n",
      "for j,i in enumerate(paths[0][::-1]):\n",
      "    G.add_node(str(i[0]),type=\"source\")\n",
      "    for k in range(1,len(i)):\n",
      "        G.add_node(str(i[k]),type=\"none\")\n",
      "        G.add_edge(str(i[k-1]),str(i[k]),weight=paths[2][::-1][j])\n",
      "    G.add_node(str(i[-1]),type=\"sink\")\n",
      "print(str(json_graph.dumps(G)),end=\"\",file=open('uploads/tpt.json','w'))"
     ],
     "language": "python",
     "metadata": {},
     "outputs": [
      {
       "output_type": "stream",
       "stream": "stdout",
       "text": [
        "03:14:55 - Searched 134 nodes\n"
       ]
      },
      {
       "output_type": "stream",
       "stream": "stdout",
       "text": [
        "03:14:55 - Path Num | Path | Bottleneck | Flux\n"
       ]
      },
      {
       "output_type": "stream",
       "stream": "stdout",
       "text": [
        "03:14:55 - 1 | [2, 96, 6] | (2, 96) | 0.0003038984732 \n"
       ]
      },
      {
       "output_type": "stream",
       "stream": "stdout",
       "text": [
        "03:14:55 - 2 | [1, 6] | (1, 6) | 0.000128869624801 \n"
       ]
      },
      {
       "output_type": "stream",
       "stream": "stdout",
       "text": [
        "03:14:55 - 3 | [1, 116, 96, 6] | (116, 96) | 8.59617818175e-05 \n"
       ]
      },
      {
       "output_type": "stream",
       "stream": "stdout",
       "text": [
        "03:14:55 - 4 | [1, 73, 32, 4] | (73, 32) | 4.11749621994e-05 \n"
       ]
      },
      {
       "output_type": "stream",
       "stream": "stdout",
       "text": [
        "03:14:55 - 5 | [1, 71, 96, 6] | (1, 71) | 3.37867980422e-05 \n"
       ]
      }
     ],
     "prompt_number": 3
    },
    {
     "cell_type": "code",
     "collapsed": false,
     "input": [],
     "language": "python",
     "metadata": {},
     "outputs": []
    }
   ],
   "metadata": {}
  }
 ]
}